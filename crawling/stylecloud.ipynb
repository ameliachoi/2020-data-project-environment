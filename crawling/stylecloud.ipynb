{
 "cells": [
  {
   "cell_type": "code",
   "execution_count": 2,
   "metadata": {},
   "outputs": [
    {
     "name": "stdout",
     "output_type": "stream",
     "text": [
      "Collecting stylecloud\n",
      "  Using cached stylecloud-0.5.1.tar.gz (262 kB)\n",
      "Collecting wordcloud\n",
      "  Downloading wordcloud-1.8.0-cp37-cp37m-macosx_10_6_x86_64.whl (161 kB)\n",
      "\u001b[K     |████████████████████████████████| 161 kB 805 kB/s eta 0:00:01\n",
      "\u001b[?25hCollecting icon-font-to-png\n",
      "  Using cached icon_font_to_png-0.4.1-py2.py3-none-any.whl (161 kB)\n",
      "Requirement already satisfied: palettable in /opt/anaconda3/lib/python3.7/site-packages (from stylecloud) (3.3.0)\n",
      "Collecting fire\n",
      "  Using cached fire-0.3.1.tar.gz (81 kB)\n",
      "Requirement already satisfied: matplotlib in /opt/anaconda3/lib/python3.7/site-packages (from stylecloud) (3.1.1)\n",
      "Requirement already satisfied: pillow in /opt/anaconda3/lib/python3.7/site-packages (from wordcloud->stylecloud) (6.2.0)\n",
      "Requirement already satisfied: numpy>=1.6.1 in /opt/anaconda3/lib/python3.7/site-packages (from wordcloud->stylecloud) (1.17.2)\n",
      "Requirement already satisfied: six>=1.10.0 in /opt/anaconda3/lib/python3.7/site-packages (from icon-font-to-png->stylecloud) (1.12.0)\n",
      "Requirement already satisfied: requests>=2.12.5 in /opt/anaconda3/lib/python3.7/site-packages (from icon-font-to-png->stylecloud) (2.22.0)\n",
      "Collecting tinycss>=0.4\n",
      "  Using cached tinycss-0.4.tar.gz (87 kB)\n",
      "Collecting termcolor\n",
      "  Using cached termcolor-1.1.0.tar.gz (3.9 kB)\n",
      "Requirement already satisfied: cycler>=0.10 in /opt/anaconda3/lib/python3.7/site-packages (from matplotlib->stylecloud) (0.10.0)\n",
      "Requirement already satisfied: kiwisolver>=1.0.1 in /opt/anaconda3/lib/python3.7/site-packages (from matplotlib->stylecloud) (1.1.0)\n",
      "Requirement already satisfied: pyparsing!=2.0.4,!=2.1.2,!=2.1.6,>=2.0.1 in /opt/anaconda3/lib/python3.7/site-packages (from matplotlib->stylecloud) (2.4.2)\n",
      "Requirement already satisfied: python-dateutil>=2.1 in /opt/anaconda3/lib/python3.7/site-packages (from matplotlib->stylecloud) (2.8.0)\n",
      "Requirement already satisfied: idna<2.9,>=2.5 in /opt/anaconda3/lib/python3.7/site-packages (from requests>=2.12.5->icon-font-to-png->stylecloud) (2.8)\n",
      "Requirement already satisfied: chardet<3.1.0,>=3.0.2 in /opt/anaconda3/lib/python3.7/site-packages (from requests>=2.12.5->icon-font-to-png->stylecloud) (3.0.4)\n",
      "Requirement already satisfied: urllib3!=1.25.0,!=1.25.1,<1.26,>=1.21.1 in /opt/anaconda3/lib/python3.7/site-packages (from requests>=2.12.5->icon-font-to-png->stylecloud) (1.24.2)\n",
      "Requirement already satisfied: certifi>=2017.4.17 in /opt/anaconda3/lib/python3.7/site-packages (from requests>=2.12.5->icon-font-to-png->stylecloud) (2019.9.11)\n",
      "Requirement already satisfied: setuptools in /opt/anaconda3/lib/python3.7/site-packages (from kiwisolver>=1.0.1->matplotlib->stylecloud) (50.3.0)\n",
      "Building wheels for collected packages: stylecloud, fire, tinycss, termcolor\n",
      "  Building wheel for stylecloud (setup.py) ... \u001b[?25ldone\n",
      "\u001b[?25h  Created wheel for stylecloud: filename=stylecloud-0.5.1-py3-none-any.whl size=259506 sha256=71ec1da13eeb437ca6b76a24768c36f633d6192406669145ed02bbdbbdeee94e\n",
      "  Stored in directory: /Users/jinameliachoi/Library/Caches/pip/wheels/fd/47/57/55fe36325f3febdf8361255fddaf8b868911526385ee7720e1\n",
      "  Building wheel for fire (setup.py) ... \u001b[?25ldone\n",
      "\u001b[?25h  Created wheel for fire: filename=fire-0.3.1-py2.py3-none-any.whl size=111005 sha256=f56fd401253e799d0a8193271b9eb3a2c82f44a413bc6bf5464b136be1355bd1\n",
      "  Stored in directory: /Users/jinameliachoi/Library/Caches/pip/wheels/95/38/e1/8b62337a8ecf5728bdc1017e828f253f7a9cf25db999861bec\n",
      "  Building wheel for tinycss (setup.py) ... \u001b[?25ldone\n",
      "\u001b[?25h  Created wheel for tinycss: filename=tinycss-0.4-py3-none-any.whl size=43940 sha256=8f453e59b3cea6201e5b12e6b28c110a334316b0649302b7bd52469ac7abdc87\n",
      "  Stored in directory: /Users/jinameliachoi/Library/Caches/pip/wheels/6c/66/e8/e53d7a476011891fa51a5ee83a2d1852b19b258f975055429b\n",
      "  Building wheel for termcolor (setup.py) ... \u001b[?25ldone\n",
      "\u001b[?25h  Created wheel for termcolor: filename=termcolor-1.1.0-py3-none-any.whl size=4830 sha256=90455dbdac5a9967cb83339abb7601aaea9920a02d4da23e1748c18fcd6b1f70\n",
      "  Stored in directory: /Users/jinameliachoi/Library/Caches/pip/wheels/3f/e3/ec/8a8336ff196023622fbcb36de0c5a5c218cbb24111d1d4c7f2\n",
      "Successfully built stylecloud fire tinycss termcolor\n",
      "Installing collected packages: wordcloud, tinycss, icon-font-to-png, termcolor, fire, stylecloud\n",
      "Successfully installed fire-0.3.1 icon-font-to-png-0.4.1 stylecloud-0.5.1 termcolor-1.1.0 tinycss-0.4 wordcloud-1.8.0\n",
      "\u001b[33mWARNING: You are using pip version 20.2.3; however, version 20.2.4 is available.\n",
      "You should consider upgrading via the '/opt/anaconda3/bin/python -m pip install --upgrade pip' command.\u001b[0m\n"
     ]
    }
   ],
   "source": [
    "!pip install stylecloud"
   ]
  },
  {
   "cell_type": "code",
   "execution_count": 56,
   "metadata": {},
   "outputs": [],
   "source": [
    "import stylecloud\n",
    "\n",
    "font_location = 'gyeonggi_Bold.ttf'\n",
    "\n",
    "stylecloud.gen_stylecloud(file_path = 'noun_list_environment.csv',\n",
    "                          icon_name='fas fa-leaf',\n",
    "                          palette='colorbrewer.sequential.Greens_9',\n",
    "                          background_color='black',\n",
    "                          gradient='horizontal',\n",
    "                          font_path=font_location,\n",
    "                          output_name='environment.png'\n",
    "                          )"
   ]
  },
  {
   "cell_type": "code",
   "execution_count": 63,
   "metadata": {},
   "outputs": [],
   "source": [
    "import stylecloud\n",
    "\n",
    "font_location = 'gyeonggi_Bold.ttf'\n",
    "\n",
    "stylecloud.gen_stylecloud(file_path = 'noun_list_reuse.csv',\n",
    "                          icon_name='fas fa-trash-restore',\n",
    "                          palette='colorbrewer.sequential.GnBu_9',\n",
    "                          background_color='black',\n",
    "                          gradient='horizontal',\n",
    "                          font_path=font_location,\n",
    "                          output_name='reuse.png'\n",
    "                          )"
   ]
  },
  {
   "cell_type": "code",
   "execution_count": 62,
   "metadata": {},
   "outputs": [],
   "source": [
    "import stylecloud\n",
    "\n",
    "font_location = 'gyeonggi_Bold.ttf'\n",
    "\n",
    "stylecloud.gen_stylecloud(file_path = 'noun_list_plastic.csv',\n",
    "                          icon_name='fas fa-recycle',\n",
    "                          palette='colorbrewer.sequential.Blues_7',\n",
    "                          background_color='black',\n",
    "                          gradient='horizontal',\n",
    "                          font_path=font_location,\n",
    "                          output_name='plastic.png'\n",
    "                          )"
   ]
  },
  {
   "cell_type": "code",
   "execution_count": null,
   "metadata": {},
   "outputs": [],
   "source": []
  }
 ],
 "metadata": {
  "kernelspec": {
   "display_name": "Python 3",
   "language": "python",
   "name": "python3"
  },
  "language_info": {
   "codemirror_mode": {
    "name": "ipython",
    "version": 3
   },
   "file_extension": ".py",
   "mimetype": "text/x-python",
   "name": "python",
   "nbconvert_exporter": "python",
   "pygments_lexer": "ipython3",
   "version": "3.7.4"
  }
 },
 "nbformat": 4,
 "nbformat_minor": 4
}
